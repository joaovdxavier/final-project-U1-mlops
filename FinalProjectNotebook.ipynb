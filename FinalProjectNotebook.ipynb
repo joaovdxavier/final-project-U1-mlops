{
 "cells": [
  {
   "cell_type": "markdown",
   "id": "56d65db1-a892-4479-9456-a103bf700dda",
   "metadata": {
    "tags": []
   },
   "source": [
    "# U1 - Final Project: Analyzing Gas Prices in Brazil over 2004 to 2021, comparing with 4 presidents"
   ]
  },
  {
   "cell_type": "code",
   "execution_count": null,
   "id": "c68b44c8-8331-4461-90b0-687e9a27e6b5",
   "metadata": {
    "tags": []
   },
   "outputs": [],
   "source": [
    "import pandas as pd\n",
    "import pytest\n",
    "import logging\n",
    "import matplotlib.pyplot as plt\n",
    "import matplotlib.style as style\n",
    "\n",
    "data = pd.read_csv('gas_2004-2021.tsv', sep='\\t', lineterminator='\\n')\n",
    "config_logging('./results2.log')"
   ]
  },
  {
   "cell_type": "code",
   "execution_count": null,
   "id": "12126343-6698-4dd4-9d6b-bd5d22cd72df",
   "metadata": {},
   "outputs": [],
   "source": [
    "data.head()\n",
    "data.info()"
   ]
  },
  {
   "cell_type": "markdown",
   "id": "4b431ff8-8ea4-45eb-a75c-0cf26aee8fe2",
   "metadata": {},
   "source": [
    "## Functions"
   ]
  },
  {
   "cell_type": "code",
   "execution_count": null,
   "id": "c8d903eb-4434-4953-954d-1484ac2b094f",
   "metadata": {},
   "outputs": [],
   "source": [
    "def config_logging(path):\n",
    "    \"\"\"\n",
    "    Configures the logging instance\n",
    "    Args: \n",
    "    path: str\n",
    "    Returns:\n",
    "    None\n",
    "    \"\"\"\n",
    "    logging.basicConfig(\n",
    "        filename=path,\n",
    "        level=logging.INFO,\n",
    "        filemode='w',\n",
    "        format='[%(asctime)s] %(name)s - %(levelname)s - %(message)s',\n",
    "        datefmt='%Y-%m-%d %H:%M:%S'\n",
    "    )\n",
    "    \n",
    "\n",
    "def line_plot_gas_over_time(dataset, label, color):\n",
    "    \"\"\"\n",
    "    Receives a dataframe and plots a line graph\n",
    "    Args:\n",
    "    dataset: DataFrame\n",
    "    label: str\n",
    "    color: str\n",
    "    \n",
    "    Returns:\n",
    "    None\n",
    "    \"\"\"\n",
    "    try:\n",
    "        assert(isinstance(label, str))\n",
    "    except AssertionError:\n",
    "        logging.error(\"ERROR: Label must be a string.\")\n",
    "        \n",
    "    plt.plot(dataset['final_date'], \n",
    "         dataset['resell_mean'].rolling(rolling_mean).mean(), \n",
    "         label=label, \n",
    "         color=color,\n",
    "         linewidth=2)\n",
    "\n",
    "def clean_dataset(dataset):\n",
    "    \"\"\"\n",
    "    Receives a DataFrame and cleans it for the problem\n",
    "    Args:\n",
    "    dataset: DataFrame\n",
    "    Returns:\n",
    "    cleaned_data: DataFrame\n",
    "    \"\"\"\n",
    "    cleaned_data = dataset.copy()\n",
    "    try:\n",
    "        cleaned_data.columns = [\"initial_date\", \"final_date\", \"region\", \n",
    "                    \"state\", \"product\", \"gas_stations_number\", \n",
    "                    \"measurement_unit\", \"resell_mean\", \"resell_std\", \n",
    "                    \"resell_min_price\", \"resell_max_price\", \"resell_mean_margin\", \n",
    "                    \"resell_variant_coef\", \"mean_price_dist\", \"std_dist\",\n",
    "                    \"min_price_dist\", \"max_price_dist\", \"variation_dist_coef\"]\n",
    "    \n",
    "        cleaned_data['final_date'] = pd.to_datetime(cleaned_data['final_date'])\n",
    "        cleaned_data.drop(\"initial_date\", axis=1, inplace=True)\n",
    "    except KeyError:\n",
    "        logging.error(\"ERROR: final_date or initial_date not found on this DataFrame\")\n",
    "    except ValueError:\n",
    "        logging.error(\"ERROR: There are less columns than the specified.\")\n",
    "\n",
    "    #Removing initial_date, since it won't be used\n",
    "    cleaned_data.sort_values('final_date', inplace=True)\n",
    "    cleaned_data.reset_index(drop=True, inplace=True)\n",
    "    \n",
    "    #Removing accents\n",
    "    cleaned_data['product'].replace({'ÓLEO DIESEL': 'OLEO DIESEL'}, inplace=True)\n",
    "    cleaned_data['product'].replace({'ÓLEO DIESEL S10': 'OLEO DIESEL S10'}, inplace=True)\n",
    "    \n",
    "    logging.info(\"SUCCESS: dataframe was cleaned successfully.\")\n",
    "    \n",
    "    return cleaned_data\n",
    "    "
   ]
  },
  {
   "cell_type": "markdown",
   "id": "83cb7c32-5ec9-4723-98b9-afb1750d6dd6",
   "metadata": {},
   "source": [
    "## Data Cleaning"
   ]
  },
  {
   "cell_type": "markdown",
   "id": "677db734-e685-420d-bb03-3992e5a8119f",
   "metadata": {},
   "source": [
    "In the line above, we could see that the columns are hard to work with, so let's rename them."
   ]
  },
  {
   "cell_type": "code",
   "execution_count": null,
   "id": "957c54e4-2556-4df4-b024-148a6a9c1bbb",
   "metadata": {},
   "outputs": [],
   "source": [
    "data = clean_dataset(data)"
   ]
  },
  {
   "cell_type": "markdown",
   "id": "2726132b-a614-4b4d-b7fa-1d727ba4666e",
   "metadata": {
    "tags": []
   },
   "source": [
    "## Telling a Story"
   ]
  },
  {
   "cell_type": "markdown",
   "id": "495a052f-ecc6-477d-bfc6-a2c9da15e38d",
   "metadata": {},
   "source": [
    "Based on this data, there are a few questions we can ask and answer in this project.\n",
    "* How did Gasoline, Ethanol and Diesel evolved throughout the years?\n",
    "* How did Gasoline evolve over the years in each Brazilian region?\n",
    "* How did Gasoline evolve in each of the four president's mandates? (Lula, Dilma, Temer and Bolsonaro)\n",
    "* How did GLP (Home cooking Gas) evolve in each mandate? (Lula, Dilma, Temer and Bolsonaro)"
   ]
  },
  {
   "cell_type": "code",
   "execution_count": null,
   "id": "004bb45f-bb6e-4a07-83e9-b9a55aaa0be2",
   "metadata": {},
   "outputs": [],
   "source": [
    "#Question 1\n",
    "data_ethanol = data[data['product'] == \"ETANOL HIDRATADO\"]\n",
    "data_gasoline = data[data['product'] == \"GASOLINA COMUM\"]\n",
    "data_additive_gasoline = data[data['product'] == \"GASOLINA ADITIVADA\"]\n",
    "data_diesel = data[data['product'] == \"OLEO DIESEL\"]\n",
    "data_diesel_s10 = data[data['product'] == \"OLEO DIESEL S10\"]\n",
    "data_glp = data[data['product'] == \"GLP\"]\n",
    "\n",
    "#Question 2\n",
    "gasoline_centro_oeste = data_gasoline[data_gasoline['region'] == 'CENTRO OESTE']\n",
    "gasoline_nordeste = data_gasoline[data_gasoline['region'] == 'NORDESTE']\n",
    "gasoline_sul = data_gasoline[data_gasoline['region'] == 'SUL']\n",
    "gasoline_sudeste = data_gasoline[data_gasoline['region'] == 'SUDESTE']\n",
    "gasoline_norte = data_gasoline[data_gasoline['region'] == 'NORTE']\n",
    "\n",
    "#Question 3\n",
    "gasoline_lula = data_gasoline.copy()[(data_gasoline['final_date'].dt.year >= 2004) & (data_gasoline['final_date'].dt.year <= 2010)]\n",
    "gasoline_dilma = data_gasoline.copy()[(data_gasoline['final_date'].dt.year >= 2010) & (data_gasoline['final_date'].dt.year <= 2016)]\n",
    "gasoline_temer = data_gasoline.copy()[(data_gasoline['final_date'].dt.year >= 2016) & (data_gasoline['final_date'].dt.year <= 2019)]\n",
    "gasoline_bolsonaro = data_gasoline.copy()[data_gasoline['final_date'].dt.year >= 2019]\n",
    "\n",
    "#Question 4\n",
    "glp_lula = data_glp.copy()[(data_glp['final_date'].dt.year >= 2004) & (data_glp['final_date'].dt.year <= 2010)]\n",
    "glp_dilma = data_glp.copy()[(data_glp['final_date'].dt.year >= 2010) & (data_glp['final_date'].dt.year <= 2016)]\n",
    "glp_temer = data_glp.copy()[(data_glp['final_date'].dt.year >= 2016) & (data_glp['final_date'].dt.year <= 2019)]\n",
    "glp_bolsonaro = data_glp.copy()[data_glp['final_date'].dt.year >= 2019]"
   ]
  },
  {
   "cell_type": "code",
   "execution_count": null,
   "id": "06f53dab-1090-4197-89ef-707c4ce460d6",
   "metadata": {},
   "outputs": [],
   "source": [
    "rolling_mean = 200"
   ]
  },
  {
   "cell_type": "markdown",
   "id": "60700151-cfc6-40e2-8581-fa5eeebd398e",
   "metadata": {},
   "source": [
    "### 1.0 Gasoline, Ethanol and Diesel evolution through the years"
   ]
  },
  {
   "cell_type": "code",
   "execution_count": null,
   "id": "0f9530e1-a97a-4542-b9ef-1b7073afdc78",
   "metadata": {},
   "outputs": [],
   "source": [
    "#Using a 200-day rolling_mean\n",
    "plt.figure(figsize=(12,6))\n",
    "\n",
    "line_plot_gas_over_time(data_gasoline, 'Gasoline', 'c')\n",
    "line_plot_gas_over_time(data_diesel, 'Diesel', 'm')\n",
    "line_plot_gas_over_time(data_ethanol, 'Ethanol', 'g')\n",
    "\n",
    "### Highlihting the peak of the crisis\n",
    "plt.axvspan(xmin=18440, xmax=18800, ymin=0.009,\n",
    "           alpha=0.3, color='black')\n",
    "\n",
    "#Adding titles\n",
    "plt.suptitle(\"Gasoline, Diesel and Ethanol evolution in Brazil from 2004 to 2021\", weight='bold')\n",
    "plt.title(\"Fuel prices have reached their maximum historical value during pandemics\", fontsize='small')\n",
    "\n",
    "#plt.xlabel('Year')\n",
    "#plt.ylabel('Mean Price (R$/l)')\n",
    "\n",
    "#Adding footer\n",
    "plt.annotate('©DATAQUEST' + ' '*20 + 'Source: National Agency of Petroleum, Natural Gas and Bio fuels (ANP in Portuguese)', (0,0), (-20, -50), xycoords='axes fraction', textcoords='offset points', va='top', backgroundcolor = '#4d4d4d', color = '#f0f0f0')\n",
    "\n",
    "#Increasing grid opacity\n",
    "plt.grid(alpha=0.5)\n",
    "\n",
    "plt.legend()\n",
    "plt.show()"
   ]
  },
  {
   "cell_type": "markdown",
   "id": "4ed97841-1c9b-44e3-9f0a-81fb813cd40f",
   "metadata": {},
   "source": [
    "### 2.0 Gasoline evolution in every brazilian region"
   ]
  },
  {
   "cell_type": "code",
   "execution_count": null,
   "id": "e4752445-8061-4580-b344-df2813f2f034",
   "metadata": {},
   "outputs": [],
   "source": [
    "plt.figure(figsize=(12,6))\n",
    "\n",
    "line_plot_gas_over_time(gasoline_centro_oeste, 'Centro-Oeste', 'orange')\n",
    "line_plot_gas_over_time(gasoline_nordeste, 'Nordeste', 'g')\n",
    "line_plot_gas_over_time(gasoline_norte, 'Norte', 'b')\n",
    "line_plot_gas_over_time(gasoline_sul, 'Sul', 'r')\n",
    "line_plot_gas_over_time(gasoline_sudeste, 'Sudeste', 'aquamarine')\n",
    "\n",
    "#Adding titles\n",
    "plt.suptitle(\"Gasoline evolution in Brazil from 2004 to 2021\", weight='bold')\n",
    "plt.title(\"Gasoline evolution separated by region\", fontsize='small')\n",
    "\n",
    "#plt.xlabel('Year')\n",
    "#plt.ylabel('Mean Price (R$/l)')\n",
    "\n",
    "#Adding footer\n",
    "plt.annotate('©DATAQUEST' + ' '*20 + 'Source: National Agency of Petroleum, Natural Gas and Bio fuels (ANP in Portuguese)', (0,0), (-20, -50), xycoords='axes fraction', textcoords='offset points', va='top', backgroundcolor = '#4d4d4d', color = '#f0f0f0')\n",
    "\n",
    "#Increasing grid opacity\n",
    "plt.grid(alpha=0.5)\n",
    "\n",
    "plt.legend()\n",
    "plt.show()"
   ]
  },
  {
   "cell_type": "markdown",
   "id": "90b68ded-9822-407f-96be-5e4f3234e554",
   "metadata": {},
   "source": [
    "### 3.0 Gasoline in every President Mandate from 2004 to 2022"
   ]
  },
  {
   "cell_type": "code",
   "execution_count": null,
   "id": "3d94fe8e-481e-4c9a-b084-a8c03aa6b106",
   "metadata": {},
   "outputs": [],
   "source": [
    "plt.figure(figsize=(12,6))\n",
    "\n",
    "line_plot_gas_over_time(gasoline_lula, \"Lula\", 'r')\n",
    "line_plot_gas_over_time(gasoline_dilma, \"Dilma\", 'orange')\n",
    "line_plot_gas_over_time(gasoline_temer, \"Temer\", 'blue')\n",
    "line_plot_gas_over_time(gasoline_bolsonaro, \"Bolsonaro\", 'green')\n",
    "\n",
    "#Adding titles\n",
    "plt.suptitle(\"Gasoline in every Government from 2004 to 2022\", weight='bold')\n",
    "plt.title(\"Prices in every president Mandate (Lula, Dilma, Temer and Bolsonaro)\", fontsize='small')\n",
    "\n",
    "#plt.xlabel('Year')\n",
    "#plt.ylabel('Mean Price (R$/l)')\n",
    "\n",
    "#Adding footer\n",
    "plt.annotate('©DATAQUEST' + ' '*20 + 'Source: National Agency of Petroleum, Natural Gas and Bio fuels (ANP in Portuguese)', (0,0), (-20, -50), xycoords='axes fraction', textcoords='offset points', va='top', backgroundcolor = '#4d4d4d', color = '#f0f0f0')\n",
    "\n",
    "#Increasing grid opacity\n",
    "plt.grid(alpha=0.5)\n",
    "\n",
    "plt.legend()\n",
    "plt.show()"
   ]
  },
  {
   "cell_type": "markdown",
   "id": "bc79c58a-a723-409c-8f5d-682e78b130bb",
   "metadata": {},
   "source": [
    "### 4.0 GLP (Home Cooking Gas) Prices for every President"
   ]
  },
  {
   "cell_type": "code",
   "execution_count": null,
   "id": "799aa79b-873b-4196-9ebe-1aad7c02311c",
   "metadata": {},
   "outputs": [],
   "source": [
    "plt.figure(figsize=(12,6))\n",
    "\n",
    "line_plot_gas_over_time(glp_lula, \"Lula\", 'r')\n",
    "line_plot_gas_over_time(glp_dilma, \"Dilma\", 'orange')\n",
    "line_plot_gas_over_time(glp_temer, \"Temer\", 'blue')\n",
    "line_plot_gas_over_time(glp_bolsonaro, \"Bolsonaro\", 'green')\n",
    "\n",
    "#Adding titles\n",
    "plt.suptitle(\"GLP Price in every Government from 2004 to 2022\", weight='bold')\n",
    "plt.title(\"Prices in every president Mandate (Lula, Dilma, Temer and Bolsonaro)\", fontsize='small')\n",
    "\n",
    "#plt.xlabel('Year')\n",
    "#plt.ylabel('Mean Price (R$/l)')\n",
    "\n",
    "#Adding footer\n",
    "plt.annotate('©DATAQUEST' + ' '*20 + 'Source: National Agency of Petroleum, Natural Gas and Bio fuels (ANP in Portuguese)', (0,0), (-20, -50), xycoords='axes fraction', textcoords='offset points', va='top', backgroundcolor = '#4d4d4d', color = '#f0f0f0')\n",
    "\n",
    "#Increasing grid opacity\n",
    "plt.grid(alpha=0.5)\n",
    "\n",
    "plt.legend()\n",
    "plt.show()"
   ]
  },
  {
   "cell_type": "code",
   "execution_count": null,
   "id": "a791b365-ce39-4121-ad1e-4a1d7399edd0",
   "metadata": {},
   "outputs": [],
   "source": []
  }
 ],
 "metadata": {
  "kernelspec": {
   "display_name": "Python 3 (ipykernel)",
   "language": "python",
   "name": "python3"
  },
  "language_info": {
   "codemirror_mode": {
    "name": "ipython",
    "version": 3
   },
   "file_extension": ".py",
   "mimetype": "text/x-python",
   "name": "python",
   "nbconvert_exporter": "python",
   "pygments_lexer": "ipython3",
   "version": "3.9.7"
  }
 },
 "nbformat": 4,
 "nbformat_minor": 5
}
